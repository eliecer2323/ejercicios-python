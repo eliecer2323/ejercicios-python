{
  "nbformat": 4,
  "nbformat_minor": 0,
  "metadata": {
    "colab": {
      "provenance": []
    },
    "kernelspec": {
      "name": "python3",
      "display_name": "Python 3"
    },
    "language_info": {
      "name": "python"
    }
  },
  "cells": [
    {
      "cell_type": "markdown",
      "source": [
        "# Ejercicio de edades e ingresos\n",
        "* generar una matriz 3x3 de edades entre 20 y 50 años\n",
        "* generar una matriz 3x3 de ingresos entre 2000 y 5000 miles de pesos\n",
        "* unir la data uno a uno en una matriz de 9x2\n",
        "* filtrar aquellas filas cuya edad está entre 20 y 30 años y cuyos ingresos estan entre 2000 y 5000\n",
        "\n"
      ],
      "metadata": {
        "id": "vM8Mf2Ri6fKc"
      }
    },
    {
      "cell_type": "code",
      "execution_count": 1,
      "metadata": {
        "id": "wMLb9fk76MF0"
      },
      "outputs": [],
      "source": [
        "import numpy as np"
      ]
    },
    {
      "cell_type": "code",
      "source": [
        "edades = np.random.uniform(\n",
        "    low=20,\n",
        "    high=50,\n",
        "    size=(3,3)\n",
        ").round()\n",
        "edades"
      ],
      "metadata": {
        "colab": {
          "base_uri": "https://localhost:8080/"
        },
        "id": "O2k5BmFL7GYq",
        "outputId": "aacb7156-bbed-427e-dcc0-92eb2f91d3ae"
      },
      "execution_count": 42,
      "outputs": [
        {
          "output_type": "execute_result",
          "data": {
            "text/plain": [
              "array([[41., 21., 24.],\n",
              "       [46., 36., 33.],\n",
              "       [48., 24., 23.]])"
            ]
          },
          "metadata": {},
          "execution_count": 42
        }
      ]
    },
    {
      "cell_type": "code",
      "source": [
        "ingresos = np.random.uniform(\n",
        "    low=2000,\n",
        "    high=5000,\n",
        "    size=(3,3)\n",
        ").round()\n",
        "ingresos"
      ],
      "metadata": {
        "colab": {
          "base_uri": "https://localhost:8080/"
        },
        "id": "SofiBJoM7nHT",
        "outputId": "dbc316a9-9043-468a-f9b0-03afa0f54515"
      },
      "execution_count": 6,
      "outputs": [
        {
          "output_type": "execute_result",
          "data": {
            "text/plain": [
              "array([[3555., 4242., 4364.],\n",
              "       [2475., 4453., 2643.],\n",
              "       [4750., 2757., 3722.]])"
            ]
          },
          "metadata": {},
          "execution_count": 6
        }
      ]
    },
    {
      "cell_type": "code",
      "source": [
        "edades_r = edades.reshape(9)\n",
        "ingresos_r = ingresos.reshape(9)\n",
        "union = np.column_stack((edades_r, ingresos_r))\n",
        "display(\n",
        "    edades_r,\n",
        "    ingresos_r,\n",
        "    union,\n",
        "    union.shape\n",
        ")"
      ],
      "metadata": {
        "colab": {
          "base_uri": "https://localhost:8080/",
          "height": 221
        },
        "id": "uglGAsV279Jm",
        "outputId": "4bb63490-424b-4cea-9ef8-a6e96e28466d"
      },
      "execution_count": 43,
      "outputs": [
        {
          "output_type": "display_data",
          "data": {
            "text/plain": [
              "array([41., 21., 24., 46., 36., 33., 48., 24., 23.])"
            ]
          },
          "metadata": {}
        },
        {
          "output_type": "display_data",
          "data": {
            "text/plain": [
              "array([3555., 4242., 4364., 2475., 4453., 2643., 4750., 2757., 3722.])"
            ]
          },
          "metadata": {}
        },
        {
          "output_type": "display_data",
          "data": {
            "text/plain": [
              "array([[  41., 3555.],\n",
              "       [  21., 4242.],\n",
              "       [  24., 4364.],\n",
              "       [  46., 2475.],\n",
              "       [  36., 4453.],\n",
              "       [  33., 2643.],\n",
              "       [  48., 4750.],\n",
              "       [  24., 2757.],\n",
              "       [  23., 3722.]])"
            ]
          },
          "metadata": {}
        },
        {
          "output_type": "display_data",
          "data": {
            "text/plain": [
              "(9, 2)"
            ]
          },
          "metadata": {}
        }
      ]
    },
    {
      "cell_type": "code",
      "source": [
        "edades_mayor = edades >= 20\n",
        "edades_menor = edades <= 30\n",
        "edades_and = np.logical_and(edades_mayor, edades_menor)\n",
        "display(\n",
        "    edades_mayor,\n",
        "    edades_menor,\n",
        "    edades_and\n",
        ")"
      ],
      "metadata": {
        "colab": {
          "base_uri": "https://localhost:8080/",
          "height": 170
        },
        "id": "CypEXkPl-26M",
        "outputId": "73718a12-c2a5-4795-84c3-a612a4b0bdca"
      },
      "execution_count": 44,
      "outputs": [
        {
          "output_type": "display_data",
          "data": {
            "text/plain": [
              "array([[ True,  True,  True],\n",
              "       [ True,  True,  True],\n",
              "       [ True,  True,  True]])"
            ]
          },
          "metadata": {}
        },
        {
          "output_type": "display_data",
          "data": {
            "text/plain": [
              "array([[False,  True,  True],\n",
              "       [False, False, False],\n",
              "       [False,  True,  True]])"
            ]
          },
          "metadata": {}
        },
        {
          "output_type": "display_data",
          "data": {
            "text/plain": [
              "array([[False,  True,  True],\n",
              "       [False, False, False],\n",
              "       [False,  True,  True]])"
            ]
          },
          "metadata": {}
        }
      ]
    },
    {
      "cell_type": "code",
      "source": [
        "ingresos_mayor = ingresos >= 2000\n",
        "ingresos_menor = ingresos <= 5000\n",
        "ingresos_and = np.logical_and(ingresos_mayor, ingresos_menor)\n",
        "display(\n",
        "    ingresos_mayor,\n",
        "    ingresos_menor,\n",
        "    ingresos_and\n",
        ")"
      ],
      "metadata": {
        "colab": {
          "base_uri": "https://localhost:8080/",
          "height": 170
        },
        "id": "lAk7Uc5EBSPD",
        "outputId": "994e9e77-1ce0-4092-dbdd-4b67afc889ea"
      },
      "execution_count": 46,
      "outputs": [
        {
          "output_type": "display_data",
          "data": {
            "text/plain": [
              "array([[ True,  True,  True],\n",
              "       [ True,  True,  True],\n",
              "       [ True,  True,  True]])"
            ]
          },
          "metadata": {}
        },
        {
          "output_type": "display_data",
          "data": {
            "text/plain": [
              "array([[ True,  True,  True],\n",
              "       [ True,  True,  True],\n",
              "       [ True,  True,  True]])"
            ]
          },
          "metadata": {}
        },
        {
          "output_type": "display_data",
          "data": {
            "text/plain": [
              "array([[ True,  True,  True],\n",
              "       [ True,  True,  True],\n",
              "       [ True,  True,  True]])"
            ]
          },
          "metadata": {}
        }
      ]
    },
    {
      "cell_type": "code",
      "source": [
        "filtro_and = np.logical_and(edades_and, ingresos_and)\n",
        "filtro_r = filtro_and.reshape(9)\n",
        "filtro_r"
      ],
      "metadata": {
        "colab": {
          "base_uri": "https://localhost:8080/"
        },
        "id": "oV2Veh4EBgHD",
        "outputId": "e1f8aa68-e466-446f-d04c-788a89e2ea27"
      },
      "execution_count": 82,
      "outputs": [
        {
          "output_type": "execute_result",
          "data": {
            "text/plain": [
              "array([False,  True,  True, False, False, False, False,  True,  True])"
            ]
          },
          "metadata": {},
          "execution_count": 82
        }
      ]
    },
    {
      "cell_type": "code",
      "source": [
        "union[filtro_r]"
      ],
      "metadata": {
        "colab": {
          "base_uri": "https://localhost:8080/"
        },
        "id": "ziKdz0c-B_d6",
        "outputId": "07049d6d-a085-4316-b141-719f0c891dfd"
      },
      "execution_count": 83,
      "outputs": [
        {
          "output_type": "execute_result",
          "data": {
            "text/plain": [
              "array([[  21., 4242.],\n",
              "       [  24., 4364.],\n",
              "       [  24., 2757.],\n",
              "       [  23., 3722.]])"
            ]
          },
          "metadata": {},
          "execution_count": 83
        }
      ]
    }
  ]
}